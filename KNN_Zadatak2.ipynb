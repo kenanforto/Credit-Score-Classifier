{
  "cells": [
    {
      "cell_type": "code",
      "execution_count": null,
      "metadata": {
        "id": "bU2387parJo2"
      },
      "outputs": [],
      "source": [
        "import pandas as pd\n",
        "import numpy as np"
      ]
    },
    {
      "cell_type": "code",
      "execution_count": null,
      "metadata": {
        "colab": {
          "base_uri": "https://localhost:8080/"
        },
        "id": "107RFVQfrohR",
        "outputId": "327afbbc-8186-4942-adb6-f7e26a6f98af"
      },
      "outputs": [
        {
          "output_type": "stream",
          "name": "stdout",
          "text": [
            "Mounted at /content/drive\n"
          ]
        }
      ],
      "source": [
        "from google.colab import drive\n",
        "drive.mount('/content/drive')\n",
        "path=\"/content/drive/MyDrive/Masinsko_ucenje/Projekat/\""
      ]
    },
    {
      "cell_type": "code",
      "execution_count": null,
      "metadata": {
        "id": "b3B0kKWHpOyi"
      },
      "outputs": [],
      "source": [
        "df=pd.read_csv(path+\"zadatak1.csv\")"
      ]
    },
    {
      "cell_type": "code",
      "execution_count": null,
      "metadata": {
        "colab": {
          "base_uri": "https://localhost:8080/"
        },
        "id": "T5zA9X11q6zC",
        "outputId": "bdaad3af-0309-4196-c589-60113a244f40"
      },
      "outputs": [
        {
          "output_type": "stream",
          "name": "stdout",
          "text": [
            "<class 'pandas.core.frame.DataFrame'>\n",
            "RangeIndex: 100022 entries, 0 to 100021\n",
            "Data columns (total 38 columns):\n",
            " #   Column                    Non-Null Count   Dtype  \n",
            "---  ------                    --------------   -----  \n",
            " 0   Unnamed: 0                100022 non-null  int64  \n",
            " 1   ID                        100022 non-null  object \n",
            " 2   Customer_ID               100022 non-null  object \n",
            " 3   Month                     100022 non-null  object \n",
            " 4   SSN                       100022 non-null  object \n",
            " 5   Occupation                100022 non-null  object \n",
            " 6   Annual_Income             100022 non-null  float64\n",
            " 7   Monthly_Inhand_Salary     100022 non-null  float64\n",
            " 8   Num_Bank_Accounts         100022 non-null  int64  \n",
            " 9   Num_Credit_Card           100022 non-null  int64  \n",
            " 10  Interest_Rate             100022 non-null  int64  \n",
            " 11  Num_of_Loan               100022 non-null  int64  \n",
            " 12  Type_of_Loan              100022 non-null  object \n",
            " 13  Delay_from_due_date       100022 non-null  int64  \n",
            " 14  Num_of_Delayed_Payment    100022 non-null  int64  \n",
            " 15  Changed_Credit_Limit      100022 non-null  float64\n",
            " 16  Num_Credit_Inquiries      100022 non-null  float64\n",
            " 17  Credit_Mix                100022 non-null  object \n",
            " 18  Outstanding_Debt          100022 non-null  float64\n",
            " 19  Credit_Utilization_Ratio  100022 non-null  float64\n",
            " 20  Credit_History_Age        100022 non-null  int64  \n",
            " 21  Payment_of_Min_Amount     100022 non-null  object \n",
            " 22  Total_EMI_per_month       100022 non-null  float64\n",
            " 23  Amount_invested_monthly   100022 non-null  object \n",
            " 24  Monthly_Balance           100022 non-null  float64\n",
            " 25  Credit_Score              100022 non-null  object \n",
            " 26  Name                      99934 non-null   object \n",
            " 27  Age                       100022 non-null  float64\n",
            " 28  Auto Loan                 100022 non-null  bool   \n",
            " 29  Mortgage Loan             100022 non-null  bool   \n",
            " 30  Student Loan              100022 non-null  bool   \n",
            " 31  Credit-Builder Loan       100022 non-null  bool   \n",
            " 32  Personal Loan             100022 non-null  bool   \n",
            " 33  Home Equity Loan          100022 non-null  bool   \n",
            " 34  Debt Consolidation Loan   100022 non-null  bool   \n",
            " 35  Payday Loan               100022 non-null  bool   \n",
            " 36  Spent                     100022 non-null  object \n",
            " 37  Payment                   100022 non-null  object \n",
            "dtypes: bool(8), float64(9), int64(8), object(13)\n",
            "memory usage: 23.7+ MB\n"
          ]
        }
      ],
      "source": [
        "df.info()"
      ]
    },
    {
      "cell_type": "markdown",
      "metadata": {
        "id": "n6bEtVDqi3f6"
      },
      "source": [
        "**Dodatno sređivanje podataka**"
      ]
    },
    {
      "cell_type": "code",
      "execution_count": null,
      "metadata": {
        "id": "_SUOReptrcM3"
      },
      "outputs": [],
      "source": [
        "df=df.drop(columns='Unnamed: 0')\n",
        "df=df.drop(columns='Name')\n",
        "df=df.drop(columns='SSN')\n",
        "df=df.drop(columns='ID')"
      ]
    },
    {
      "cell_type": "code",
      "execution_count": null,
      "metadata": {
        "colab": {
          "base_uri": "https://localhost:8080/"
        },
        "id": "LGVtyvJ-jiNW",
        "outputId": "e626013c-86df-4cc3-d00b-1f879512db52"
      },
      "outputs": [
        {
          "output_type": "execute_result",
          "data": {
            "text/plain": [
              "Customer_ID                 0\n",
              "Month                       0\n",
              "Occupation                  0\n",
              "Annual_Income               0\n",
              "Monthly_Inhand_Salary       0\n",
              "Num_Bank_Accounts           0\n",
              "Num_Credit_Card             0\n",
              "Interest_Rate               0\n",
              "Num_of_Loan                 0\n",
              "Type_of_Loan                0\n",
              "Delay_from_due_date         0\n",
              "Num_of_Delayed_Payment      0\n",
              "Changed_Credit_Limit        0\n",
              "Num_Credit_Inquiries        0\n",
              "Credit_Mix                  0\n",
              "Outstanding_Debt            0\n",
              "Credit_Utilization_Ratio    0\n",
              "Credit_History_Age          0\n",
              "Payment_of_Min_Amount       0\n",
              "Total_EMI_per_month         0\n",
              "Amount_invested_monthly     0\n",
              "Monthly_Balance             0\n",
              "Credit_Score                0\n",
              "Age                         0\n",
              "Auto Loan                   0\n",
              "Mortgage Loan               0\n",
              "Student Loan                0\n",
              "Credit-Builder Loan         0\n",
              "Personal Loan               0\n",
              "Home Equity Loan            0\n",
              "Debt Consolidation Loan     0\n",
              "Payday Loan                 0\n",
              "Spent                       0\n",
              "Payment                     0\n",
              "dtype: int64"
            ]
          },
          "metadata": {},
          "execution_count": 6
        }
      ],
      "source": [
        "df.isna().sum()"
      ]
    },
    {
      "cell_type": "code",
      "execution_count": null,
      "metadata": {
        "colab": {
          "base_uri": "https://localhost:8080/"
        },
        "id": "rP3uZl2CrsKc",
        "outputId": "38d656b2-6244-450f-8421-b52a071a61e2"
      },
      "outputs": [
        {
          "output_type": "stream",
          "name": "stdout",
          "text": [
            "<class 'pandas.core.frame.DataFrame'>\n",
            "RangeIndex: 100022 entries, 0 to 100021\n",
            "Data columns (total 34 columns):\n",
            " #   Column                    Non-Null Count   Dtype  \n",
            "---  ------                    --------------   -----  \n",
            " 0   Customer_ID               100022 non-null  object \n",
            " 1   Month                     100022 non-null  object \n",
            " 2   Occupation                100022 non-null  object \n",
            " 3   Annual_Income             100022 non-null  float64\n",
            " 4   Monthly_Inhand_Salary     100022 non-null  float64\n",
            " 5   Num_Bank_Accounts         100022 non-null  int64  \n",
            " 6   Num_Credit_Card           100022 non-null  int64  \n",
            " 7   Interest_Rate             100022 non-null  int64  \n",
            " 8   Num_of_Loan               100022 non-null  int64  \n",
            " 9   Type_of_Loan              100022 non-null  object \n",
            " 10  Delay_from_due_date       100022 non-null  int64  \n",
            " 11  Num_of_Delayed_Payment    100022 non-null  int64  \n",
            " 12  Changed_Credit_Limit      100022 non-null  float64\n",
            " 13  Num_Credit_Inquiries      100022 non-null  float64\n",
            " 14  Credit_Mix                100022 non-null  object \n",
            " 15  Outstanding_Debt          100022 non-null  float64\n",
            " 16  Credit_Utilization_Ratio  100022 non-null  float64\n",
            " 17  Credit_History_Age        100022 non-null  int64  \n",
            " 18  Payment_of_Min_Amount     100022 non-null  object \n",
            " 19  Total_EMI_per_month       100022 non-null  float64\n",
            " 20  Amount_invested_monthly   100022 non-null  object \n",
            " 21  Monthly_Balance           100022 non-null  float64\n",
            " 22  Credit_Score              100022 non-null  object \n",
            " 23  Age                       100022 non-null  float64\n",
            " 24  Auto Loan                 100022 non-null  bool   \n",
            " 25  Mortgage Loan             100022 non-null  bool   \n",
            " 26  Student Loan              100022 non-null  bool   \n",
            " 27  Credit-Builder Loan       100022 non-null  bool   \n",
            " 28  Personal Loan             100022 non-null  bool   \n",
            " 29  Home Equity Loan          100022 non-null  bool   \n",
            " 30  Debt Consolidation Loan   100022 non-null  bool   \n",
            " 31  Payday Loan               100022 non-null  bool   \n",
            " 32  Spent                     100022 non-null  object \n",
            " 33  Payment                   100022 non-null  object \n",
            "dtypes: bool(8), float64(9), int64(7), object(10)\n",
            "memory usage: 20.6+ MB\n"
          ]
        }
      ],
      "source": [
        "df.info()"
      ]
    },
    {
      "cell_type": "code",
      "execution_count": null,
      "metadata": {
        "colab": {
          "base_uri": "https://localhost:8080/",
          "height": 638
        },
        "id": "nJ7cZvWYrbob",
        "outputId": "fc47235b-9a44-499b-b14f-bbb45fd5d712"
      },
      "outputs": [
        {
          "output_type": "execute_result",
          "data": {
            "text/plain": [
              "  Customer_ID     Month Occupation  Annual_Income  Monthly_Inhand_Salary  \\\n",
              "0   CUS_0xd40   January  Scientist       19114.12            1824.843333   \n",
              "1   CUS_0xd40  February  Scientist       19114.12            3093.153333   \n",
              "2   CUS_0xd40     March  Scientist       19114.12            3093.153333   \n",
              "3   CUS_0xd40     April  Scientist       19114.12            3093.153333   \n",
              "4   CUS_0xd40       May  Scientist       19114.12            1824.843333   \n",
              "\n",
              "   Num_Bank_Accounts  Num_Credit_Card  Interest_Rate  Num_of_Loan  \\\n",
              "0                  3                4              3            4   \n",
              "1                  3                4              3            4   \n",
              "2                  3                4              3            4   \n",
              "3                  3                4              3            4   \n",
              "4                  3                4              3            4   \n",
              "\n",
              "                                        Type_of_Loan  ...  Auto Loan  \\\n",
              "0  Auto Loan, Credit-Builder Loan, Personal Loan,...  ...       True   \n",
              "1  Auto Loan, Credit-Builder Loan, Personal Loan,...  ...       True   \n",
              "2  Auto Loan, Credit-Builder Loan, Personal Loan,...  ...       True   \n",
              "3  Auto Loan, Credit-Builder Loan, Personal Loan,...  ...       True   \n",
              "4  Auto Loan, Credit-Builder Loan, Personal Loan,...  ...       True   \n",
              "\n",
              "   Mortgage Loan  Student Loan  Credit-Builder Loan Personal Loan  \\\n",
              "0          False         False                 True          True   \n",
              "1          False         False                 True          True   \n",
              "2          False         False                 True          True   \n",
              "3          False         False                 True          True   \n",
              "4          False         False                 True          True   \n",
              "\n",
              "   Home Equity Loan  Debt Consolidation Loan  Payday Loan Spent  Payment  \n",
              "0              True                    False        False  High    Small  \n",
              "1              True                    False        False   Low    Large  \n",
              "2              True                    False        False   Low   Medium  \n",
              "3              True                    False        False   Low    Small  \n",
              "4              True                    False        False  High   Medium  \n",
              "\n",
              "[5 rows x 34 columns]"
            ],
            "text/html": [
              "\n",
              "  <div id=\"df-fd65bab8-580e-4f75-9f82-c67771a0e9fb\" class=\"colab-df-container\">\n",
              "    <div>\n",
              "<style scoped>\n",
              "    .dataframe tbody tr th:only-of-type {\n",
              "        vertical-align: middle;\n",
              "    }\n",
              "\n",
              "    .dataframe tbody tr th {\n",
              "        vertical-align: top;\n",
              "    }\n",
              "\n",
              "    .dataframe thead th {\n",
              "        text-align: right;\n",
              "    }\n",
              "</style>\n",
              "<table border=\"1\" class=\"dataframe\">\n",
              "  <thead>\n",
              "    <tr style=\"text-align: right;\">\n",
              "      <th></th>\n",
              "      <th>Customer_ID</th>\n",
              "      <th>Month</th>\n",
              "      <th>Occupation</th>\n",
              "      <th>Annual_Income</th>\n",
              "      <th>Monthly_Inhand_Salary</th>\n",
              "      <th>Num_Bank_Accounts</th>\n",
              "      <th>Num_Credit_Card</th>\n",
              "      <th>Interest_Rate</th>\n",
              "      <th>Num_of_Loan</th>\n",
              "      <th>Type_of_Loan</th>\n",
              "      <th>...</th>\n",
              "      <th>Auto Loan</th>\n",
              "      <th>Mortgage Loan</th>\n",
              "      <th>Student Loan</th>\n",
              "      <th>Credit-Builder Loan</th>\n",
              "      <th>Personal Loan</th>\n",
              "      <th>Home Equity Loan</th>\n",
              "      <th>Debt Consolidation Loan</th>\n",
              "      <th>Payday Loan</th>\n",
              "      <th>Spent</th>\n",
              "      <th>Payment</th>\n",
              "    </tr>\n",
              "  </thead>\n",
              "  <tbody>\n",
              "    <tr>\n",
              "      <th>0</th>\n",
              "      <td>CUS_0xd40</td>\n",
              "      <td>January</td>\n",
              "      <td>Scientist</td>\n",
              "      <td>19114.12</td>\n",
              "      <td>1824.843333</td>\n",
              "      <td>3</td>\n",
              "      <td>4</td>\n",
              "      <td>3</td>\n",
              "      <td>4</td>\n",
              "      <td>Auto Loan, Credit-Builder Loan, Personal Loan,...</td>\n",
              "      <td>...</td>\n",
              "      <td>True</td>\n",
              "      <td>False</td>\n",
              "      <td>False</td>\n",
              "      <td>True</td>\n",
              "      <td>True</td>\n",
              "      <td>True</td>\n",
              "      <td>False</td>\n",
              "      <td>False</td>\n",
              "      <td>High</td>\n",
              "      <td>Small</td>\n",
              "    </tr>\n",
              "    <tr>\n",
              "      <th>1</th>\n",
              "      <td>CUS_0xd40</td>\n",
              "      <td>February</td>\n",
              "      <td>Scientist</td>\n",
              "      <td>19114.12</td>\n",
              "      <td>3093.153333</td>\n",
              "      <td>3</td>\n",
              "      <td>4</td>\n",
              "      <td>3</td>\n",
              "      <td>4</td>\n",
              "      <td>Auto Loan, Credit-Builder Loan, Personal Loan,...</td>\n",
              "      <td>...</td>\n",
              "      <td>True</td>\n",
              "      <td>False</td>\n",
              "      <td>False</td>\n",
              "      <td>True</td>\n",
              "      <td>True</td>\n",
              "      <td>True</td>\n",
              "      <td>False</td>\n",
              "      <td>False</td>\n",
              "      <td>Low</td>\n",
              "      <td>Large</td>\n",
              "    </tr>\n",
              "    <tr>\n",
              "      <th>2</th>\n",
              "      <td>CUS_0xd40</td>\n",
              "      <td>March</td>\n",
              "      <td>Scientist</td>\n",
              "      <td>19114.12</td>\n",
              "      <td>3093.153333</td>\n",
              "      <td>3</td>\n",
              "      <td>4</td>\n",
              "      <td>3</td>\n",
              "      <td>4</td>\n",
              "      <td>Auto Loan, Credit-Builder Loan, Personal Loan,...</td>\n",
              "      <td>...</td>\n",
              "      <td>True</td>\n",
              "      <td>False</td>\n",
              "      <td>False</td>\n",
              "      <td>True</td>\n",
              "      <td>True</td>\n",
              "      <td>True</td>\n",
              "      <td>False</td>\n",
              "      <td>False</td>\n",
              "      <td>Low</td>\n",
              "      <td>Medium</td>\n",
              "    </tr>\n",
              "    <tr>\n",
              "      <th>3</th>\n",
              "      <td>CUS_0xd40</td>\n",
              "      <td>April</td>\n",
              "      <td>Scientist</td>\n",
              "      <td>19114.12</td>\n",
              "      <td>3093.153333</td>\n",
              "      <td>3</td>\n",
              "      <td>4</td>\n",
              "      <td>3</td>\n",
              "      <td>4</td>\n",
              "      <td>Auto Loan, Credit-Builder Loan, Personal Loan,...</td>\n",
              "      <td>...</td>\n",
              "      <td>True</td>\n",
              "      <td>False</td>\n",
              "      <td>False</td>\n",
              "      <td>True</td>\n",
              "      <td>True</td>\n",
              "      <td>True</td>\n",
              "      <td>False</td>\n",
              "      <td>False</td>\n",
              "      <td>Low</td>\n",
              "      <td>Small</td>\n",
              "    </tr>\n",
              "    <tr>\n",
              "      <th>4</th>\n",
              "      <td>CUS_0xd40</td>\n",
              "      <td>May</td>\n",
              "      <td>Scientist</td>\n",
              "      <td>19114.12</td>\n",
              "      <td>1824.843333</td>\n",
              "      <td>3</td>\n",
              "      <td>4</td>\n",
              "      <td>3</td>\n",
              "      <td>4</td>\n",
              "      <td>Auto Loan, Credit-Builder Loan, Personal Loan,...</td>\n",
              "      <td>...</td>\n",
              "      <td>True</td>\n",
              "      <td>False</td>\n",
              "      <td>False</td>\n",
              "      <td>True</td>\n",
              "      <td>True</td>\n",
              "      <td>True</td>\n",
              "      <td>False</td>\n",
              "      <td>False</td>\n",
              "      <td>High</td>\n",
              "      <td>Medium</td>\n",
              "    </tr>\n",
              "  </tbody>\n",
              "</table>\n",
              "<p>5 rows × 34 columns</p>\n",
              "</div>\n",
              "    <div class=\"colab-df-buttons\">\n",
              "\n",
              "  <div class=\"colab-df-container\">\n",
              "    <button class=\"colab-df-convert\" onclick=\"convertToInteractive('df-fd65bab8-580e-4f75-9f82-c67771a0e9fb')\"\n",
              "            title=\"Convert this dataframe to an interactive table.\"\n",
              "            style=\"display:none;\">\n",
              "\n",
              "  <svg xmlns=\"http://www.w3.org/2000/svg\" height=\"24px\" viewBox=\"0 -960 960 960\">\n",
              "    <path d=\"M120-120v-720h720v720H120Zm60-500h600v-160H180v160Zm220 220h160v-160H400v160Zm0 220h160v-160H400v160ZM180-400h160v-160H180v160Zm440 0h160v-160H620v160ZM180-180h160v-160H180v160Zm440 0h160v-160H620v160Z\"/>\n",
              "  </svg>\n",
              "    </button>\n",
              "\n",
              "  <style>\n",
              "    .colab-df-container {\n",
              "      display:flex;\n",
              "      gap: 12px;\n",
              "    }\n",
              "\n",
              "    .colab-df-convert {\n",
              "      background-color: #E8F0FE;\n",
              "      border: none;\n",
              "      border-radius: 50%;\n",
              "      cursor: pointer;\n",
              "      display: none;\n",
              "      fill: #1967D2;\n",
              "      height: 32px;\n",
              "      padding: 0 0 0 0;\n",
              "      width: 32px;\n",
              "    }\n",
              "\n",
              "    .colab-df-convert:hover {\n",
              "      background-color: #E2EBFA;\n",
              "      box-shadow: 0px 1px 2px rgba(60, 64, 67, 0.3), 0px 1px 3px 1px rgba(60, 64, 67, 0.15);\n",
              "      fill: #174EA6;\n",
              "    }\n",
              "\n",
              "    .colab-df-buttons div {\n",
              "      margin-bottom: 4px;\n",
              "    }\n",
              "\n",
              "    [theme=dark] .colab-df-convert {\n",
              "      background-color: #3B4455;\n",
              "      fill: #D2E3FC;\n",
              "    }\n",
              "\n",
              "    [theme=dark] .colab-df-convert:hover {\n",
              "      background-color: #434B5C;\n",
              "      box-shadow: 0px 1px 3px 1px rgba(0, 0, 0, 0.15);\n",
              "      filter: drop-shadow(0px 1px 2px rgba(0, 0, 0, 0.3));\n",
              "      fill: #FFFFFF;\n",
              "    }\n",
              "  </style>\n",
              "\n",
              "    <script>\n",
              "      const buttonEl =\n",
              "        document.querySelector('#df-fd65bab8-580e-4f75-9f82-c67771a0e9fb button.colab-df-convert');\n",
              "      buttonEl.style.display =\n",
              "        google.colab.kernel.accessAllowed ? 'block' : 'none';\n",
              "\n",
              "      async function convertToInteractive(key) {\n",
              "        const element = document.querySelector('#df-fd65bab8-580e-4f75-9f82-c67771a0e9fb');\n",
              "        const dataTable =\n",
              "          await google.colab.kernel.invokeFunction('convertToInteractive',\n",
              "                                                    [key], {});\n",
              "        if (!dataTable) return;\n",
              "\n",
              "        const docLinkHtml = 'Like what you see? Visit the ' +\n",
              "          '<a target=\"_blank\" href=https://colab.research.google.com/notebooks/data_table.ipynb>data table notebook</a>'\n",
              "          + ' to learn more about interactive tables.';\n",
              "        element.innerHTML = '';\n",
              "        dataTable['output_type'] = 'display_data';\n",
              "        await google.colab.output.renderOutput(dataTable, element);\n",
              "        const docLink = document.createElement('div');\n",
              "        docLink.innerHTML = docLinkHtml;\n",
              "        element.appendChild(docLink);\n",
              "      }\n",
              "    </script>\n",
              "  </div>\n",
              "\n",
              "\n",
              "<div id=\"df-4e44b0fb-37c0-4a5b-8d02-263cd8917f78\">\n",
              "  <button class=\"colab-df-quickchart\" onclick=\"quickchart('df-4e44b0fb-37c0-4a5b-8d02-263cd8917f78')\"\n",
              "            title=\"Suggest charts\"\n",
              "            style=\"display:none;\">\n",
              "\n",
              "<svg xmlns=\"http://www.w3.org/2000/svg\" height=\"24px\"viewBox=\"0 0 24 24\"\n",
              "     width=\"24px\">\n",
              "    <g>\n",
              "        <path d=\"M19 3H5c-1.1 0-2 .9-2 2v14c0 1.1.9 2 2 2h14c1.1 0 2-.9 2-2V5c0-1.1-.9-2-2-2zM9 17H7v-7h2v7zm4 0h-2V7h2v10zm4 0h-2v-4h2v4z\"/>\n",
              "    </g>\n",
              "</svg>\n",
              "  </button>\n",
              "\n",
              "<style>\n",
              "  .colab-df-quickchart {\n",
              "      --bg-color: #E8F0FE;\n",
              "      --fill-color: #1967D2;\n",
              "      --hover-bg-color: #E2EBFA;\n",
              "      --hover-fill-color: #174EA6;\n",
              "      --disabled-fill-color: #AAA;\n",
              "      --disabled-bg-color: #DDD;\n",
              "  }\n",
              "\n",
              "  [theme=dark] .colab-df-quickchart {\n",
              "      --bg-color: #3B4455;\n",
              "      --fill-color: #D2E3FC;\n",
              "      --hover-bg-color: #434B5C;\n",
              "      --hover-fill-color: #FFFFFF;\n",
              "      --disabled-bg-color: #3B4455;\n",
              "      --disabled-fill-color: #666;\n",
              "  }\n",
              "\n",
              "  .colab-df-quickchart {\n",
              "    background-color: var(--bg-color);\n",
              "    border: none;\n",
              "    border-radius: 50%;\n",
              "    cursor: pointer;\n",
              "    display: none;\n",
              "    fill: var(--fill-color);\n",
              "    height: 32px;\n",
              "    padding: 0;\n",
              "    width: 32px;\n",
              "  }\n",
              "\n",
              "  .colab-df-quickchart:hover {\n",
              "    background-color: var(--hover-bg-color);\n",
              "    box-shadow: 0 1px 2px rgba(60, 64, 67, 0.3), 0 1px 3px 1px rgba(60, 64, 67, 0.15);\n",
              "    fill: var(--button-hover-fill-color);\n",
              "  }\n",
              "\n",
              "  .colab-df-quickchart-complete:disabled,\n",
              "  .colab-df-quickchart-complete:disabled:hover {\n",
              "    background-color: var(--disabled-bg-color);\n",
              "    fill: var(--disabled-fill-color);\n",
              "    box-shadow: none;\n",
              "  }\n",
              "\n",
              "  .colab-df-spinner {\n",
              "    border: 2px solid var(--fill-color);\n",
              "    border-color: transparent;\n",
              "    border-bottom-color: var(--fill-color);\n",
              "    animation:\n",
              "      spin 1s steps(1) infinite;\n",
              "  }\n",
              "\n",
              "  @keyframes spin {\n",
              "    0% {\n",
              "      border-color: transparent;\n",
              "      border-bottom-color: var(--fill-color);\n",
              "      border-left-color: var(--fill-color);\n",
              "    }\n",
              "    20% {\n",
              "      border-color: transparent;\n",
              "      border-left-color: var(--fill-color);\n",
              "      border-top-color: var(--fill-color);\n",
              "    }\n",
              "    30% {\n",
              "      border-color: transparent;\n",
              "      border-left-color: var(--fill-color);\n",
              "      border-top-color: var(--fill-color);\n",
              "      border-right-color: var(--fill-color);\n",
              "    }\n",
              "    40% {\n",
              "      border-color: transparent;\n",
              "      border-right-color: var(--fill-color);\n",
              "      border-top-color: var(--fill-color);\n",
              "    }\n",
              "    60% {\n",
              "      border-color: transparent;\n",
              "      border-right-color: var(--fill-color);\n",
              "    }\n",
              "    80% {\n",
              "      border-color: transparent;\n",
              "      border-right-color: var(--fill-color);\n",
              "      border-bottom-color: var(--fill-color);\n",
              "    }\n",
              "    90% {\n",
              "      border-color: transparent;\n",
              "      border-bottom-color: var(--fill-color);\n",
              "    }\n",
              "  }\n",
              "</style>\n",
              "\n",
              "  <script>\n",
              "    async function quickchart(key) {\n",
              "      const quickchartButtonEl =\n",
              "        document.querySelector('#' + key + ' button');\n",
              "      quickchartButtonEl.disabled = true;  // To prevent multiple clicks.\n",
              "      quickchartButtonEl.classList.add('colab-df-spinner');\n",
              "      try {\n",
              "        const charts = await google.colab.kernel.invokeFunction(\n",
              "            'suggestCharts', [key], {});\n",
              "      } catch (error) {\n",
              "        console.error('Error during call to suggestCharts:', error);\n",
              "      }\n",
              "      quickchartButtonEl.classList.remove('colab-df-spinner');\n",
              "      quickchartButtonEl.classList.add('colab-df-quickchart-complete');\n",
              "    }\n",
              "    (() => {\n",
              "      let quickchartButtonEl =\n",
              "        document.querySelector('#df-4e44b0fb-37c0-4a5b-8d02-263cd8917f78 button');\n",
              "      quickchartButtonEl.style.display =\n",
              "        google.colab.kernel.accessAllowed ? 'block' : 'none';\n",
              "    })();\n",
              "  </script>\n",
              "</div>\n",
              "    </div>\n",
              "  </div>\n"
            ]
          },
          "metadata": {},
          "execution_count": 8
        }
      ],
      "source": [
        "df.head()"
      ]
    },
    {
      "cell_type": "markdown",
      "metadata": {
        "id": "EBQhNHPSs-1K"
      },
      "source": [
        "#**Implementacija knn algoritma**"
      ]
    },
    {
      "cell_type": "markdown",
      "metadata": {
        "id": "gkBlrPD56pbu"
      },
      "source": [
        "Radi korištenja knn modela kategoričke varijable ćemo prebaciti u numberički oblik"
      ]
    },
    {
      "cell_type": "code",
      "source": [
        "df1=pd.read_csv(path+\"zadatak1.csv\")"
      ],
      "metadata": {
        "id": "3TV_BdS33PmZ"
      },
      "execution_count": null,
      "outputs": []
    },
    {
      "cell_type": "code",
      "source": [
        "print((df1['Credit_Score']=='Good').sum())\n",
        "print((df1['Credit_Score']=='Standard').sum())\n",
        "print((df1['Credit_Score']=='Poor').sum())"
      ],
      "metadata": {
        "colab": {
          "base_uri": "https://localhost:8080/"
        },
        "id": "DNIFmLQ53DcP",
        "outputId": "e71aae20-335f-4d90-969e-5a2288d81075"
      },
      "execution_count": null,
      "outputs": [
        {
          "output_type": "stream",
          "name": "stdout",
          "text": [
            "17832\n",
            "53182\n",
            "29008\n"
          ]
        }
      ]
    },
    {
      "cell_type": "code",
      "execution_count": null,
      "metadata": {
        "id": "P94QuLCk6nre"
      },
      "outputs": [],
      "source": [
        "from sklearn import preprocessing\n",
        "encoder=[] #kako bi mogli vratiti iz numeričkog oblika u kategorički\n",
        "for i in df.columns:\n",
        "  if(df[i].dtype=='object'):\n",
        "    val=preprocessing.LabelEncoder()\n",
        "    val.fit(df[i])\n",
        "    df[i]=val.transform(df[i])\n",
        "    encoder.append(val)\n"
      ]
    },
    {
      "cell_type": "code",
      "execution_count": null,
      "metadata": {
        "id": "LfV4OJel5oOg"
      },
      "outputs": [],
      "source": [
        "y=df.Credit_Score\n",
        "x=df.drop(\"Credit_Score\",axis=1)"
      ]
    },
    {
      "cell_type": "code",
      "execution_count": null,
      "metadata": {
        "id": "sCZ3gnPW54dx"
      },
      "outputs": [],
      "source": [
        "from sklearn.preprocessing import MinMaxScaler\n",
        "mms=MinMaxScaler()\n",
        "mms.fit(x)\n",
        "x=mms.transform(x)"
      ]
    },
    {
      "cell_type": "code",
      "execution_count": null,
      "metadata": {
        "id": "4FPsNkYas-Si"
      },
      "outputs": [],
      "source": [
        "from sklearn.model_selection import train_test_split"
      ]
    },
    {
      "cell_type": "code",
      "execution_count": null,
      "metadata": {
        "id": "mqC47a85w4-P"
      },
      "outputs": [],
      "source": [
        "x_train,x_test,y_train,y_test=train_test_split(x,y,train_size=0.8,test_size=0.2,random_state=5)"
      ]
    },
    {
      "cell_type": "code",
      "execution_count": null,
      "metadata": {
        "id": "LXkWmQD1xq1R"
      },
      "outputs": [],
      "source": [
        "x_train,x_valid,y_train,y_valid=train_test_split(x_train,y_train,train_size=0.8,test_size=0.2,random_state=5)"
      ]
    },
    {
      "cell_type": "code",
      "execution_count": null,
      "metadata": {
        "colab": {
          "base_uri": "https://localhost:8080/"
        },
        "id": "dUrFD2FazsH4",
        "outputId": "e208d13b-a458-4d88-d9ae-3cd889db895e"
      },
      "outputs": [
        {
          "output_type": "execute_result",
          "data": {
            "text/plain": [
              "(64013, 33)"
            ]
          },
          "metadata": {},
          "execution_count": 15
        }
      ],
      "source": [
        "x_train.shape"
      ]
    },
    {
      "cell_type": "code",
      "execution_count": null,
      "metadata": {
        "colab": {
          "base_uri": "https://localhost:8080/"
        },
        "id": "VJiSNFpPzz7r",
        "outputId": "e29607fd-8bfe-4096-c733-8d3948c30cfa"
      },
      "outputs": [
        {
          "output_type": "execute_result",
          "data": {
            "text/plain": [
              "(64013,)"
            ]
          },
          "metadata": {},
          "execution_count": 16
        }
      ],
      "source": [
        "y_train.shape"
      ]
    },
    {
      "cell_type": "code",
      "execution_count": null,
      "metadata": {
        "colab": {
          "base_uri": "https://localhost:8080/"
        },
        "id": "TZQnrMU6z0sl",
        "outputId": "26010c33-c6aa-49f7-9289-e052582e22da"
      },
      "outputs": [
        {
          "output_type": "execute_result",
          "data": {
            "text/plain": [
              "(20005, 33)"
            ]
          },
          "metadata": {},
          "execution_count": 17
        }
      ],
      "source": [
        "x_test.shape"
      ]
    },
    {
      "cell_type": "code",
      "execution_count": null,
      "metadata": {
        "colab": {
          "base_uri": "https://localhost:8080/"
        },
        "id": "0Tr4WrGGz5sE",
        "outputId": "8b5dcf73-a255-4a72-f483-ef6e14c9f2aa"
      },
      "outputs": [
        {
          "output_type": "execute_result",
          "data": {
            "text/plain": [
              "(20005,)"
            ]
          },
          "metadata": {},
          "execution_count": 18
        }
      ],
      "source": [
        "y_test.shape"
      ]
    },
    {
      "cell_type": "code",
      "execution_count": null,
      "metadata": {
        "colab": {
          "base_uri": "https://localhost:8080/"
        },
        "id": "tqNvMryUz-m6",
        "outputId": "48ea2784-45c5-4952-b733-a99828765bd6"
      },
      "outputs": [
        {
          "output_type": "execute_result",
          "data": {
            "text/plain": [
              "(16004, 33)"
            ]
          },
          "metadata": {},
          "execution_count": 19
        }
      ],
      "source": [
        "x_valid.shape"
      ]
    },
    {
      "cell_type": "code",
      "execution_count": null,
      "metadata": {
        "colab": {
          "base_uri": "https://localhost:8080/"
        },
        "id": "eJVh3sHwz-Ab",
        "outputId": "d5e8dfd1-be3e-4a8e-a021-d9e3c4efb8f3"
      },
      "outputs": [
        {
          "output_type": "execute_result",
          "data": {
            "text/plain": [
              "(16004,)"
            ]
          },
          "metadata": {},
          "execution_count": 20
        }
      ],
      "source": [
        "y_valid.shape"
      ]
    },
    {
      "cell_type": "markdown",
      "metadata": {
        "id": "4ZZYLEbm4QRF"
      },
      "source": [
        "#Klasifikacijski model zasnovan na knn"
      ]
    },
    {
      "cell_type": "code",
      "execution_count": null,
      "metadata": {
        "id": "ESATpRvJ4H6N"
      },
      "outputs": [],
      "source": [
        "from sklearn.neighbors import KNeighborsClassifier\n",
        "from sklearn.metrics import confusion_matrix,ConfusionMatrixDisplay\n",
        "from sklearn.metrics import accuracy_score,cohen_kappa_score\n",
        "from sklearn.pipeline import make_pipeline\n",
        "from sklearn.preprocessing import StandardScaler\n",
        "import matplotlib.pyplot as plt"
      ]
    },
    {
      "cell_type": "code",
      "source": [
        "pipeline=make_pipeline(StandardScaler(),KNeighborsClassifier(n_neighbors=5))\n",
        "pipeline.fit(x_train,y_train)\n",
        "prediction_pipeline=pipeline.predict(x_test)\n",
        "print(\"Accuracy: \",accuracy_score(y_test,prediction_pipeline)*100,\"%\")\n",
        "print(\"Cohen kappa:\",cohen_kappa_score(y_test,prediction_pipeline))"
      ],
      "metadata": {
        "colab": {
          "base_uri": "https://localhost:8080/"
        },
        "id": "q4rWxEERu4Lh",
        "outputId": "1563e6b6-d2a5-4540-d534-8ac6aea4a74a"
      },
      "execution_count": null,
      "outputs": [
        {
          "output_type": "stream",
          "name": "stdout",
          "text": [
            "Accuracy:  65.87853036740815 %\n",
            "Cohen kappa: 0.42937156173333924\n"
          ]
        }
      ]
    },
    {
      "cell_type": "code",
      "execution_count": null,
      "metadata": {
        "colab": {
          "base_uri": "https://localhost:8080/"
        },
        "id": "WEUJ0BOt4nFa",
        "outputId": "7bc39c30-d2b5-42c4-801c-aa75f616b6ac"
      },
      "outputs": [
        {
          "output_type": "stream",
          "name": "stdout",
          "text": [
            "Accuracy:  60.21494626343414 %\n",
            "Cohen kappa:  {0.3336873655587401}\n",
            "Accuracy:  56.64083979005249 %\n",
            "Cohen kappa:  {0.34266570548419506}\n",
            "Accuracy:  61.21969507623094 %\n",
            "Cohen kappa:  {0.3541832378700248}\n",
            "Accuracy:  60.774806298425396 %\n",
            "Cohen kappa:  {0.36461134691960484}\n",
            "Accuracy:  61.54461384653837 %\n",
            "Cohen kappa:  {0.35615343146450584}\n",
            "Accuracy:  62.069482629342666 %\n",
            "Cohen kappa:  {0.37259931251161416}\n",
            "Accuracy:  62.10447388152962 %\n",
            "Cohen kappa:  {0.3560953953221718}\n",
            "Accuracy:  62.029492626843286 %\n",
            "Cohen kappa:  {0.36585901643325835}\n",
            "Accuracy:  62.124468882779304 %\n",
            "Cohen kappa:  {0.35389927738265115}\n",
            "Accuracy:  62.17445638590352 %\n",
            "Cohen kappa:  {0.36049478843113547}\n",
            "Accuracy:  62.374406398400396 %\n",
            "Cohen kappa:  {0.3575490199759399}\n",
            "Accuracy:  62.59935016245939 %\n",
            "Cohen kappa:  {0.36414490049447423}\n",
            "Accuracy:  62.90427393151712 %\n",
            "Cohen kappa:  {0.36241430315648004}\n",
            "Accuracy:  62.78930267433142 %\n",
            "Cohen kappa:  {0.36558017332015447}\n",
            "Accuracy:  62.63934016495875 %\n",
            "Cohen kappa:  {0.3577954213427079}\n",
            "Accuracy:  62.729317670582354 %\n",
            "Cohen kappa:  {0.36170562761151936}\n",
            "Accuracy:  62.78430392401899 %\n",
            "Cohen kappa:  {0.3585290798605689}\n",
            "Accuracy:  62.969257685578604 %\n",
            "Cohen kappa:  {0.3624835864206464}\n",
            "Accuracy:  62.62934266433392 %\n",
            "Cohen kappa:  {0.35234261554581636}\n",
            "Accuracy:  62.76430892276931 %\n",
            "Cohen kappa:  {0.3569784617891347}\n"
          ]
        }
      ],
      "source": [
        "for k in range(1,21):\n",
        "  knn=KNeighborsClassifier(n_neighbors=k,algorithm='auto',weights='uniform')\n",
        "  model=knn.fit(x_train,y_train)\n",
        "  prediction=model.predict(x_test)\n",
        "  print(\"Accuracy: \",accuracy_score(y_test,prediction)*100,\"%\")\n",
        "  print(\"Cohen kappa: \",{cohen_kappa_score(y_test,prediction)})"
      ]
    },
    {
      "cell_type": "code",
      "source": [
        "knn=KNeighborsClassifier(n_neighbors=18,algorithm='auto',weights='uniform')\n",
        "model=knn.fit(x_train,y_train)\n",
        "prediction=model.predict(x_test)\n",
        "print(\"Accuracy: \",accuracy_score(y_test,prediction)*100,\"%\")\n",
        "print(\"Cohen kappa: \",{cohen_kappa_score(y_test,prediction)})"
      ],
      "metadata": {
        "colab": {
          "base_uri": "https://localhost:8080/"
        },
        "id": "lXRxiN2T6J2n",
        "outputId": "3384ebfb-da0d-4793-db84-54f7e65c0dc6"
      },
      "execution_count": null,
      "outputs": [
        {
          "output_type": "stream",
          "name": "stdout",
          "text": [
            "Accuracy:  62.969257685578604 %\n",
            "Cohen kappa:  {0.3624835864206464}\n"
          ]
        }
      ]
    },
    {
      "cell_type": "markdown",
      "metadata": {
        "id": "xf7U5IJQxAlj"
      },
      "source": [
        "Procjena performanski pomoću konfuzijske matrice"
      ]
    },
    {
      "cell_type": "code",
      "execution_count": null,
      "metadata": {
        "id": "WcDU9Qrjw_oG"
      },
      "outputs": [],
      "source": [
        "cm=confusion_matrix(y_test,prediction)"
      ]
    },
    {
      "cell_type": "code",
      "execution_count": null,
      "metadata": {
        "colab": {
          "base_uri": "https://localhost:8080/"
        },
        "id": "kCAz3r-Vy1O7",
        "outputId": "ee51255b-fc06-4938-fab0-5816e15a313d"
      },
      "outputs": [
        {
          "output_type": "stream",
          "name": "stdout",
          "text": [
            "[[1672   90 1743]\n",
            " [ 466 2866 2423]\n",
            " [1183 1544 8018]]\n"
          ]
        }
      ],
      "source": [
        "print(cm)"
      ]
    },
    {
      "cell_type": "code",
      "source": [
        "disp=ConfusionMatrixDisplay(confusion_matrix=cm,display_labels=knn.classes_)\n",
        "disp.plot()\n",
        "plt.show()\n"
      ],
      "metadata": {
        "colab": {
          "base_uri": "https://localhost:8080/",
          "height": 454
        },
        "id": "uct5NUsY4dOV",
        "outputId": "435f7847-e75c-45a5-86f4-d7ef79aeb24a"
      },
      "execution_count": null,
      "outputs": [
        {
          "output_type": "display_data",
          "data": {
            "text/plain": [
              "<Figure size 640x480 with 2 Axes>"
            ],
            "image/png": "[encoded data removed]"
          },
          "metadata": {}
        }
      ]
    },
    {
      "cell_type": "code",
      "source": [
        "from sklearn.metrics import classification_report\n",
        "cr1=classification_report(y_test,prediction)\n",
        "print(\"Klasifikacijski izvjestaj\")\n",
        "print(cr1)"
      ],
      "metadata": {
        "colab": {
          "base_uri": "https://localhost:8080/"
        },
        "id": "N6LnVa-L6nAp",
        "outputId": "137775eb-3d63-4584-cc00-2ef1a021fc1e"
      },
      "execution_count": null,
      "outputs": [
        {
          "output_type": "stream",
          "name": "stdout",
          "text": [
            "Klasifikacijski izvjestaj\n",
            "              precision    recall  f1-score   support\n",
            "\n",
            "           0       0.50      0.49      0.49      3505\n",
            "           1       0.64      0.50      0.56      5755\n",
            "           2       0.66      0.74      0.70     10745\n",
            "\n",
            "    accuracy                           0.63     20005\n",
            "   macro avg       0.60      0.58      0.59     20005\n",
            "weighted avg       0.63      0.63      0.62     20005\n",
            "\n"
          ]
        }
      ]
    },
    {
      "cell_type": "markdown",
      "metadata": {
        "id": "bgyp7I0F-6Ce"
      },
      "source": [
        "Tuniranje parametara"
      ]
    },
    {
      "cell_type": "code",
      "execution_count": null,
      "metadata": {
        "colab": {
          "base_uri": "https://localhost:8080/"
        },
        "id": "0jnOX2jv-3ju",
        "outputId": "5c60abbd-3202-47a9-9c94-ee55d38f4894"
      },
      "outputs": [
        {
          "output_type": "stream",
          "name": "stdout",
          "text": [
            "dict_keys(['cv', 'error_score', 'estimator__algorithm', 'estimator__leaf_size', 'estimator__metric', 'estimator__metric_params', 'estimator__n_jobs', 'estimator__n_neighbors', 'estimator__p', 'estimator__weights', 'estimator', 'n_jobs', 'param_grid', 'pre_dispatch', 'refit', 'return_train_score', 'scoring', 'verbose'])\n",
            "Fitting 1 folds for each of 294 candidates, totalling 294 fits\n",
            "[CV 1/1] END algorithm=auto, metric=cityblock, n_neighbors=5, weights=distance;, score=0.573 total time= 1.1min\n",
            "[CV 1/1] END algorithm=auto, metric=cityblock, n_neighbors=5, weights=uniform;, score=0.567 total time= 1.1min\n",
            "[CV 1/1] END algorithm=auto, metric=cityblock, n_neighbors=6, weights=distance;, score=0.579 total time= 1.1min\n",
            "[CV 1/1] END algorithm=auto, metric=cityblock, n_neighbors=6, weights=uniform;, score=0.579 total time= 1.1min\n",
            "[CV 1/1] END algorithm=auto, metric=cityblock, n_neighbors=7, weights=distance;, score=0.584 total time= 1.1min\n",
            "[CV 1/1] END algorithm=auto, metric=cityblock, n_neighbors=7, weights=uniform;, score=0.581 total time= 1.1min\n",
            "[CV 1/1] END algorithm=auto, metric=cityblock, n_neighbors=8, weights=distance;, score=0.587 total time= 1.1min\n",
            "[CV 1/1] END algorithm=auto, metric=cityblock, n_neighbors=8, weights=uniform;, score=0.588 total time= 1.1min\n",
            "[CV 1/1] END algorithm=auto, metric=cityblock, n_neighbors=9, weights=distance;, score=0.591 total time= 1.1min\n",
            "[CV 1/1] END algorithm=auto, metric=cityblock, n_neighbors=9, weights=uniform;, score=0.591 total time= 1.1min\n",
            "[CV 1/1] END algorithm=auto, metric=cityblock, n_neighbors=10, weights=distance;, score=0.595 total time= 1.1min\n",
            "[CV 1/1] END algorithm=auto, metric=cityblock, n_neighbors=10, weights=uniform;, score=0.595 total time= 1.1min\n",
            "[CV 1/1] END algorithm=auto, metric=cityblock, n_neighbors=11, weights=distance;, score=0.597 total time= 1.0min\n",
            "[CV 1/1] END algorithm=auto, metric=cityblock, n_neighbors=11, weights=uniform;, score=0.599 total time= 1.1min\n",
            "[CV 1/1] END algorithm=auto, metric=cityblock, n_neighbors=12, weights=distance;, score=0.599 total time= 1.1min\n",
            "[CV 1/1] END algorithm=auto, metric=cityblock, n_neighbors=12, weights=uniform;, score=0.602 total time= 1.1min\n",
            "[CV 1/1] END algorithm=auto, metric=cityblock, n_neighbors=13, weights=distance;, score=0.601 total time= 1.1min\n",
            "[CV 1/1] END algorithm=auto, metric=cityblock, n_neighbors=13, weights=uniform;, score=0.601 total time= 1.1min\n",
            "[CV 1/1] END algorithm=auto, metric=cityblock, n_neighbors=14, weights=distance;, score=0.602 total time= 1.1min\n",
            "[CV 1/1] END algorithm=auto, metric=cityblock, n_neighbors=14, weights=uniform;, score=0.604 total time= 1.1min\n",
            "[CV 1/1] END algorithm=auto, metric=cityblock, n_neighbors=15, weights=distance;, score=0.605 total time= 1.2min\n",
            "[CV 1/1] END algorithm=auto, metric=cityblock, n_neighbors=15, weights=uniform;, score=0.606 total time= 1.1min\n",
            "[CV 1/1] END algorithm=auto, metric=cityblock, n_neighbors=16, weights=distance;, score=0.605 total time= 1.1min\n",
            "[CV 1/1] END algorithm=auto, metric=cityblock, n_neighbors=16, weights=uniform;, score=0.605 total time= 1.1min\n",
            "[CV 1/1] END algorithm=auto, metric=cityblock, n_neighbors=17, weights=distance;, score=0.604 total time= 1.1min\n",
            "[CV 1/1] END algorithm=auto, metric=cityblock, n_neighbors=17, weights=uniform;, score=0.606 total time= 1.1min\n",
            "[CV 1/1] END algorithm=auto, metric=cityblock, n_neighbors=18, weights=distance;, score=0.607 total time= 1.1min\n",
            "[CV 1/1] END algorithm=auto, metric=cityblock, n_neighbors=18, weights=uniform;, score=0.608 total time= 1.1min\n",
            "[CV 1/1] END algorithm=auto, metric=cityblock, n_neighbors=19, weights=distance;, score=0.609 total time= 1.1min\n",
            "[CV 1/1] END algorithm=auto, metric=cityblock, n_neighbors=19, weights=uniform;, score=0.608 total time= 1.2min\n",
            "[CV 1/1] END algorithm=auto, metric=cityblock, n_neighbors=20, weights=distance;, score=0.609 total time= 1.1min\n",
            "[CV 1/1] END algorithm=auto, metric=cityblock, n_neighbors=20, weights=uniform;, score=0.608 total time= 1.1min\n",
            "[CV 1/1] END algorithm=auto, metric=cityblock, n_neighbors=21, weights=distance;, score=0.609 total time= 1.1min\n",
            "[CV 1/1] END algorithm=auto, metric=cityblock, n_neighbors=21, weights=uniform;, score=0.609 total time= 1.1min\n",
            "[CV 1/1] END algorithm=auto, metric=cityblock, n_neighbors=22, weights=distance;, score=0.610 total time= 1.1min\n",
            "[CV 1/1] END algorithm=auto, metric=cityblock, n_neighbors=22, weights=uniform;, score=0.610 total time= 1.1min\n",
            "[CV 1/1] END algorithm=auto, metric=cityblock, n_neighbors=23, weights=distance;, score=0.612 total time= 1.1min\n",
            "[CV 1/1] END algorithm=auto, metric=cityblock, n_neighbors=23, weights=uniform;, score=0.610 total time= 1.1min\n",
            "[CV 1/1] END algorithm=auto, metric=cityblock, n_neighbors=24, weights=distance;, score=0.612 total time= 1.1min\n",
            "[CV 1/1] END algorithm=auto, metric=cityblock, n_neighbors=24, weights=uniform;, score=0.610 total time= 1.1min\n",
            "[CV 1/1] END algorithm=auto, metric=cityblock, n_neighbors=25, weights=distance;, score=0.613 total time= 1.1min\n",
            "[CV 1/1] END algorithm=auto, metric=cityblock, n_neighbors=25, weights=uniform;, score=0.614 total time= 1.1min\n",
            "[CV 1/1] END algorithm=auto, metric=euclidean, n_neighbors=5, weights=distance;, score=0.559 total time=   8.9s\n",
            "[CV 1/1] END algorithm=auto, metric=euclidean, n_neighbors=5, weights=uniform;, score=0.551 total time=   8.1s\n",
            "[CV 1/1] END algorithm=auto, metric=euclidean, n_neighbors=6, weights=distance;, score=0.562 total time=   9.2s\n",
            "[CV 1/1] END algorithm=auto, metric=euclidean, n_neighbors=6, weights=uniform;, score=0.558 total time=   7.9s\n",
            "[CV 1/1] END algorithm=auto, metric=euclidean, n_neighbors=7, weights=distance;, score=0.565 total time=   9.4s\n",
            "[CV 1/1] END algorithm=auto, metric=euclidean, n_neighbors=7, weights=uniform;, score=0.559 total time=   7.6s\n",
            "[CV 1/1] END algorithm=auto, metric=euclidean, n_neighbors=8, weights=distance;, score=0.567 total time=   9.5s\n",
            "[CV 1/1] END algorithm=auto, metric=euclidean, n_neighbors=8, weights=uniform;, score=0.562 total time=   7.7s\n",
            "[CV 1/1] END algorithm=auto, metric=euclidean, n_neighbors=9, weights=distance;, score=0.570 total time=   9.4s\n",
            "[CV 1/1] END algorithm=auto, metric=euclidean, n_neighbors=9, weights=uniform;, score=0.566 total time=   7.7s\n",
            "[CV 1/1] END algorithm=auto, metric=euclidean, n_neighbors=10, weights=distance;, score=0.573 total time=   9.5s\n",
            "[CV 1/1] END algorithm=auto, metric=euclidean, n_neighbors=10, weights=uniform;, score=0.571 total time=   7.7s\n",
            "[CV 1/1] END algorithm=auto, metric=euclidean, n_neighbors=11, weights=distance;, score=0.576 total time=   9.4s\n",
            "[CV 1/1] END algorithm=auto, metric=euclidean, n_neighbors=11, weights=uniform;, score=0.573 total time=  11.5s\n",
            "[CV 1/1] END algorithm=auto, metric=euclidean, n_neighbors=12, weights=distance;, score=0.577 total time=   8.1s\n",
            "[CV 1/1] END algorithm=auto, metric=euclidean, n_neighbors=12, weights=uniform;, score=0.575 total time=   9.1s\n",
            "[CV 1/1] END algorithm=auto, metric=euclidean, n_neighbors=13, weights=distance;, score=0.580 total time=   7.8s\n",
            "[CV 1/1] END algorithm=auto, metric=euclidean, n_neighbors=13, weights=uniform;, score=0.578 total time=   9.4s\n",
            "[CV 1/1] END algorithm=auto, metric=euclidean, n_neighbors=14, weights=distance;, score=0.580 total time=   7.4s\n",
            "[CV 1/1] END algorithm=auto, metric=euclidean, n_neighbors=14, weights=uniform;, score=0.578 total time=   9.6s\n",
            "[CV 1/1] END algorithm=auto, metric=euclidean, n_neighbors=15, weights=distance;, score=0.581 total time=   7.3s\n",
            "[CV 1/1] END algorithm=auto, metric=euclidean, n_neighbors=15, weights=uniform;, score=0.580 total time=   9.8s\n",
            "[CV 1/1] END algorithm=auto, metric=euclidean, n_neighbors=16, weights=distance;, score=0.583 total time=   7.1s\n",
            "[CV 1/1] END algorithm=auto, metric=euclidean, n_neighbors=16, weights=uniform;, score=0.582 total time=  10.1s\n",
            "[CV 1/1] END algorithm=auto, metric=euclidean, n_neighbors=17, weights=distance;, score=0.584 total time=   6.8s\n",
            "[CV 1/1] END algorithm=auto, metric=euclidean, n_neighbors=17, weights=uniform;, score=0.582 total time=  10.4s\n",
            "[CV 1/1] END algorithm=auto, metric=euclidean, n_neighbors=18, weights=distance;, score=0.588 total time=   6.7s\n",
            "[CV 1/1] END algorithm=auto, metric=euclidean, n_neighbors=18, weights=uniform;, score=0.587 total time=  10.5s\n",
            "[CV 1/1] END algorithm=auto, metric=euclidean, n_neighbors=19, weights=distance;, score=0.587 total time=   6.7s\n",
            "[CV 1/1] END algorithm=auto, metric=euclidean, n_neighbors=19, weights=uniform;, score=0.587 total time=  10.5s\n",
            "[CV 1/1] END algorithm=auto, metric=euclidean, n_neighbors=20, weights=distance;, score=0.588 total time=   6.7s\n",
            "[CV 1/1] END algorithm=auto, metric=euclidean, n_neighbors=20, weights=uniform;, score=0.587 total time=  10.6s\n",
            "[CV 1/1] END algorithm=auto, metric=euclidean, n_neighbors=21, weights=distance;, score=0.589 total time=   6.7s\n",
            "[CV 1/1] END algorithm=auto, metric=euclidean, n_neighbors=21, weights=uniform;, score=0.588 total time=  10.6s\n",
            "[CV 1/1] END algorithm=auto, metric=euclidean, n_neighbors=22, weights=distance;, score=0.589 total time=   6.8s\n",
            "[CV 1/1] END algorithm=auto, metric=euclidean, n_neighbors=22, weights=uniform;, score=0.585 total time=  10.6s\n",
            "[CV 1/1] END algorithm=auto, metric=euclidean, n_neighbors=23, weights=distance;, score=0.588 total time=   6.8s\n",
            "[CV 1/1] END algorithm=auto, metric=euclidean, n_neighbors=23, weights=uniform;, score=0.588 total time=  10.5s\n",
            "[CV 1/1] END algorithm=auto, metric=euclidean, n_neighbors=24, weights=distance;, score=0.588 total time=   7.0s\n",
            "[CV 1/1] END algorithm=auto, metric=euclidean, n_neighbors=24, weights=uniform;, score=0.588 total time=  10.3s\n",
            "[CV 1/1] END algorithm=auto, metric=euclidean, n_neighbors=25, weights=distance;, score=0.590 total time=   7.4s\n",
            "[CV 1/1] END algorithm=auto, metric=euclidean, n_neighbors=25, weights=uniform;, score=0.590 total time=   9.9s\n",
            "[CV 1/1] END algorithm=auto, metric=manhattan, n_neighbors=5, weights=distance;, score=0.573 total time= 1.1min\n",
            "[CV 1/1] END algorithm=auto, metric=manhattan, n_neighbors=5, weights=uniform;, score=0.567 total time= 1.1min\n",
            "[CV 1/1] END algorithm=auto, metric=manhattan, n_neighbors=6, weights=distance;, score=0.579 total time= 1.1min\n",
            "[CV 1/1] END algorithm=auto, metric=manhattan, n_neighbors=6, weights=uniform;, score=0.579 total time= 1.1min\n",
            "[CV 1/1] END algorithm=auto, metric=manhattan, n_neighbors=7, weights=distance;, score=0.584 total time= 1.1min\n",
            "[CV 1/1] END algorithm=auto, metric=manhattan, n_neighbors=7, weights=uniform;, score=0.581 total time= 1.1min\n",
            "[CV 1/1] END algorithm=auto, metric=manhattan, n_neighbors=8, weights=distance;, score=0.587 total time= 1.1min\n",
            "[CV 1/1] END algorithm=auto, metric=manhattan, n_neighbors=8, weights=uniform;, score=0.588 total time= 1.1min\n",
            "[CV 1/1] END algorithm=auto, metric=manhattan, n_neighbors=9, weights=distance;, score=0.591 total time= 1.1min\n",
            "[CV 1/1] END algorithm=auto, metric=manhattan, n_neighbors=9, weights=uniform;, score=0.591 total time= 1.1min\n",
            "[CV 1/1] END algorithm=auto, metric=manhattan, n_neighbors=10, weights=distance;, score=0.595 total time= 1.2min\n",
            "[CV 1/1] END algorithm=auto, metric=manhattan, n_neighbors=10, weights=uniform;, score=0.595 total time= 1.1min\n",
            "[CV 1/1] END algorithm=auto, metric=manhattan, n_neighbors=11, weights=distance;, score=0.597 total time= 1.1min\n",
            "[CV 1/1] END algorithm=auto, metric=manhattan, n_neighbors=11, weights=uniform;, score=0.599 total time= 1.1min\n",
            "[CV 1/1] END algorithm=auto, metric=manhattan, n_neighbors=12, weights=distance;, score=0.599 total time= 1.1min\n",
            "[CV 1/1] END algorithm=auto, metric=manhattan, n_neighbors=12, weights=uniform;, score=0.602 total time= 1.1min\n",
            "[CV 1/1] END algorithm=auto, metric=manhattan, n_neighbors=13, weights=distance;, score=0.601 total time= 1.1min\n",
            "[CV 1/1] END algorithm=auto, metric=manhattan, n_neighbors=13, weights=uniform;, score=0.601 total time= 1.1min\n",
            "[CV 1/1] END algorithm=auto, metric=manhattan, n_neighbors=14, weights=distance;, score=0.602 total time= 1.1min\n",
            "[CV 1/1] END algorithm=auto, metric=manhattan, n_neighbors=14, weights=uniform;, score=0.604 total time= 1.2min\n",
            "[CV 1/1] END algorithm=auto, metric=manhattan, n_neighbors=15, weights=distance;, score=0.605 total time= 1.1min\n",
            "[CV 1/1] END algorithm=auto, metric=manhattan, n_neighbors=15, weights=uniform;, score=0.606 total time= 1.1min\n",
            "[CV 1/1] END algorithm=auto, metric=manhattan, n_neighbors=16, weights=distance;, score=0.605 total time= 1.1min\n",
            "[CV 1/1] END algorithm=auto, metric=manhattan, n_neighbors=16, weights=uniform;, score=0.605 total time= 1.1min\n",
            "[CV 1/1] END algorithm=auto, metric=manhattan, n_neighbors=17, weights=distance;, score=0.604 total time= 1.1min\n",
            "[CV 1/1] END algorithm=auto, metric=manhattan, n_neighbors=17, weights=uniform;, score=0.606 total time= 1.1min\n",
            "[CV 1/1] END algorithm=auto, metric=manhattan, n_neighbors=18, weights=distance;, score=0.607 total time= 1.1min\n",
            "[CV 1/1] END algorithm=auto, metric=manhattan, n_neighbors=18, weights=uniform;, score=0.608 total time= 1.1min\n",
            "[CV 1/1] END algorithm=auto, metric=manhattan, n_neighbors=19, weights=distance;, score=0.609 total time= 1.1min\n",
            "[CV 1/1] END algorithm=auto, metric=manhattan, n_neighbors=19, weights=uniform;, score=0.608 total time= 1.1min\n",
            "[CV 1/1] END algorithm=auto, metric=manhattan, n_neighbors=20, weights=distance;, score=0.609 total time= 1.1min\n",
            "[CV 1/1] END algorithm=auto, metric=manhattan, n_neighbors=20, weights=uniform;, score=0.608 total time= 1.1min\n",
            "[CV 1/1] END algorithm=auto, metric=manhattan, n_neighbors=21, weights=distance;, score=0.609 total time= 1.1min\n",
            "[CV 1/1] END algorithm=auto, metric=manhattan, n_neighbors=21, weights=uniform;, score=0.609 total time= 1.1min\n",
            "[CV 1/1] END algorithm=auto, metric=manhattan, n_neighbors=22, weights=distance;, score=0.610 total time= 1.1min\n",
            "[CV 1/1] END algorithm=auto, metric=manhattan, n_neighbors=22, weights=uniform;, score=0.610 total time= 1.1min\n",
            "[CV 1/1] END algorithm=auto, metric=manhattan, n_neighbors=23, weights=distance;, score=0.612 total time= 1.1min\n",
            "[CV 1/1] END algorithm=auto, metric=manhattan, n_neighbors=23, weights=uniform;, score=0.610 total time= 1.1min\n",
            "[CV 1/1] END algorithm=auto, metric=manhattan, n_neighbors=24, weights=distance;, score=0.612 total time= 1.1min\n",
            "[CV 1/1] END algorithm=auto, metric=manhattan, n_neighbors=24, weights=uniform;, score=0.610 total time= 1.1min\n",
            "[CV 1/1] END algorithm=auto, metric=manhattan, n_neighbors=25, weights=distance;, score=0.613 total time= 1.1min\n",
            "[CV 1/1] END algorithm=auto, metric=manhattan, n_neighbors=25, weights=uniform;, score=0.614 total time= 1.1min\n",
            "[CV 1/1] END algorithm=auto, metric=minkowski, n_neighbors=5, weights=distance;, score=0.559 total time=   8.9s\n",
            "[CV 1/1] END algorithm=auto, metric=minkowski, n_neighbors=5, weights=uniform;, score=0.551 total time=   8.1s\n",
            "[CV 1/1] END algorithm=auto, metric=minkowski, n_neighbors=6, weights=distance;, score=0.562 total time=   9.5s\n",
            "[CV 1/1] END algorithm=auto, metric=minkowski, n_neighbors=6, weights=uniform;, score=0.558 total time=  12.3s\n",
            "[CV 1/1] END algorithm=auto, metric=minkowski, n_neighbors=7, weights=distance;, score=0.565 total time=   6.6s\n",
            "[CV 1/1] END algorithm=auto, metric=minkowski, n_neighbors=7, weights=uniform;, score=0.559 total time=  10.4s\n",
            "[CV 1/1] END algorithm=auto, metric=minkowski, n_neighbors=8, weights=distance;, score=0.567 total time=   6.7s\n",
            "[CV 1/1] END algorithm=auto, metric=minkowski, n_neighbors=8, weights=uniform;, score=0.562 total time=  10.5s\n",
            "[CV 1/1] END algorithm=auto, metric=minkowski, n_neighbors=9, weights=distance;, score=0.570 total time=   6.7s\n",
            "[CV 1/1] END algorithm=auto, metric=minkowski, n_neighbors=9, weights=uniform;, score=0.566 total time=  10.5s\n",
            "[CV 1/1] END algorithm=auto, metric=minkowski, n_neighbors=10, weights=distance;, score=0.573 total time=   6.7s\n",
            "[CV 1/1] END algorithm=auto, metric=minkowski, n_neighbors=10, weights=uniform;, score=0.571 total time=  10.5s\n",
            "[CV 1/1] END algorithm=auto, metric=minkowski, n_neighbors=11, weights=distance;, score=0.576 total time=   6.7s\n",
            "[CV 1/1] END algorithm=auto, metric=minkowski, n_neighbors=11, weights=uniform;, score=0.573 total time=  10.5s\n",
            "[CV 1/1] END algorithm=auto, metric=minkowski, n_neighbors=12, weights=distance;, score=0.577 total time=   6.7s\n",
            "[CV 1/1] END algorithm=auto, metric=minkowski, n_neighbors=12, weights=uniform;, score=0.575 total time=  10.5s\n",
            "[CV 1/1] END algorithm=auto, metric=minkowski, n_neighbors=13, weights=distance;, score=0.580 total time=   6.7s\n",
            "[CV 1/1] END algorithm=auto, metric=minkowski, n_neighbors=13, weights=uniform;, score=0.578 total time=  10.5s\n",
            "[CV 1/1] END algorithm=auto, metric=minkowski, n_neighbors=14, weights=distance;, score=0.580 total time=   6.7s\n",
            "[CV 1/1] END algorithm=auto, metric=minkowski, n_neighbors=14, weights=uniform;, score=0.578 total time=  10.5s\n",
            "[CV 1/1] END algorithm=auto, metric=minkowski, n_neighbors=15, weights=distance;, score=0.581 total time=   6.7s\n",
            "[CV 1/1] END algorithm=auto, metric=minkowski, n_neighbors=15, weights=uniform;, score=0.580 total time=  10.5s\n",
            "[CV 1/1] END algorithm=auto, metric=minkowski, n_neighbors=16, weights=distance;, score=0.583 total time=   6.7s\n",
            "[CV 1/1] END algorithm=auto, metric=minkowski, n_neighbors=16, weights=uniform;, score=0.582 total time=  10.6s\n",
            "[CV 1/1] END algorithm=auto, metric=minkowski, n_neighbors=17, weights=distance;, score=0.584 total time=   6.9s\n",
            "[CV 1/1] END algorithm=auto, metric=minkowski, n_neighbors=17, weights=uniform;, score=0.582 total time=  10.3s\n",
            "[CV 1/1] END algorithm=auto, metric=minkowski, n_neighbors=18, weights=distance;, score=0.588 total time=   7.2s\n",
            "[CV 1/1] END algorithm=auto, metric=minkowski, n_neighbors=18, weights=uniform;, score=0.587 total time=  10.2s\n",
            "[CV 1/1] END algorithm=auto, metric=minkowski, n_neighbors=19, weights=distance;, score=0.587 total time=   7.5s\n",
            "[CV 1/1] END algorithm=auto, metric=minkowski, n_neighbors=19, weights=uniform;, score=0.587 total time=   9.8s\n",
            "[CV 1/1] END algorithm=auto, metric=minkowski, n_neighbors=20, weights=distance;, score=0.588 total time=   8.0s\n",
            "[CV 1/1] END algorithm=auto, metric=minkowski, n_neighbors=20, weights=uniform;, score=0.587 total time=   9.4s\n",
            "[CV 1/1] END algorithm=auto, metric=minkowski, n_neighbors=21, weights=distance;, score=0.589 total time=   8.3s\n",
            "[CV 1/1] END algorithm=auto, metric=minkowski, n_neighbors=21, weights=uniform;, score=0.588 total time=   9.0s\n",
            "[CV 1/1] END algorithm=auto, metric=minkowski, n_neighbors=22, weights=distance;, score=0.589 total time=   9.0s\n",
            "[CV 1/1] END algorithm=auto, metric=minkowski, n_neighbors=22, weights=uniform;, score=0.585 total time=   8.4s\n",
            "[CV 1/1] END algorithm=auto, metric=minkowski, n_neighbors=23, weights=distance;, score=0.588 total time=   9.4s\n",
            "[CV 1/1] END algorithm=auto, metric=minkowski, n_neighbors=23, weights=uniform;, score=0.588 total time=  10.9s\n",
            "[CV 1/1] END algorithm=auto, metric=minkowski, n_neighbors=24, weights=distance;, score=0.588 total time=   9.4s\n",
            "[CV 1/1] END algorithm=auto, metric=minkowski, n_neighbors=24, weights=uniform;, score=0.588 total time=   8.2s\n",
            "[CV 1/1] END algorithm=auto, metric=minkowski, n_neighbors=25, weights=distance;, score=0.590 total time=   8.8s\n",
            "[CV 1/1] END algorithm=auto, metric=minkowski, n_neighbors=25, weights=uniform;, score=0.590 total time=   8.5s\n",
            "[CV 1/1] END algorithm=auto, metric=chebyshev, n_neighbors=5, weights=distance;, score=0.528 total time=  58.9s\n",
            "[CV 1/1] END algorithm=auto, metric=chebyshev, n_neighbors=5, weights=uniform;, score=0.518 total time=  57.4s\n",
            "[CV 1/1] END algorithm=auto, metric=chebyshev, n_neighbors=6, weights=distance;, score=0.528 total time=  54.5s\n",
            "[CV 1/1] END algorithm=auto, metric=chebyshev, n_neighbors=6, weights=uniform;, score=0.517 total time=  55.0s\n",
            "[CV 1/1] END algorithm=auto, metric=chebyshev, n_neighbors=7, weights=distance;, score=0.527 total time=  57.0s\n",
            "[CV 1/1] END algorithm=auto, metric=chebyshev, n_neighbors=7, weights=uniform;, score=0.518 total time=  55.3s\n",
            "[CV 1/1] END algorithm=auto, metric=chebyshev, n_neighbors=8, weights=distance;, score=0.528 total time=  53.9s\n",
            "[CV 1/1] END algorithm=auto, metric=chebyshev, n_neighbors=8, weights=uniform;, score=0.515 total time=  56.4s\n",
            "[CV 1/1] END algorithm=auto, metric=chebyshev, n_neighbors=9, weights=distance;, score=0.529 total time=  52.1s\n",
            "[CV 1/1] END algorithm=auto, metric=chebyshev, n_neighbors=9, weights=uniform;, score=0.521 total time=  53.0s\n",
            "[CV 1/1] END algorithm=auto, metric=chebyshev, n_neighbors=10, weights=distance;, score=0.532 total time=  54.6s\n",
            "[CV 1/1] END algorithm=auto, metric=chebyshev, n_neighbors=10, weights=uniform;, score=0.526 total time=  52.7s\n",
            "[CV 1/1] END algorithm=auto, metric=chebyshev, n_neighbors=11, weights=distance;, score=0.532 total time=  55.3s\n",
            "[CV 1/1] END algorithm=auto, metric=chebyshev, n_neighbors=11, weights=uniform;, score=0.524 total time=  52.7s\n",
            "[CV 1/1] END algorithm=auto, metric=chebyshev, n_neighbors=12, weights=distance;, score=0.535 total time=  51.7s\n",
            "[CV 1/1] END algorithm=auto, metric=chebyshev, n_neighbors=12, weights=uniform;, score=0.528 total time=  58.0s\n",
            "[CV 1/1] END algorithm=auto, metric=chebyshev, n_neighbors=13, weights=distance;, score=0.532 total time=  51.7s\n",
            "[CV 1/1] END algorithm=auto, metric=chebyshev, n_neighbors=13, weights=uniform;, score=0.524 total time=  52.6s\n",
            "[CV 1/1] END algorithm=auto, metric=chebyshev, n_neighbors=14, weights=distance;, score=0.529 total time=  51.7s\n",
            "[CV 1/1] END algorithm=auto, metric=chebyshev, n_neighbors=14, weights=uniform;, score=0.521 total time=  52.8s\n",
            "[CV 1/1] END algorithm=auto, metric=chebyshev, n_neighbors=15, weights=distance;, score=0.527 total time=  51.7s\n",
            "[CV 1/1] END algorithm=auto, metric=chebyshev, n_neighbors=15, weights=uniform;, score=0.516 total time=  55.8s\n",
            "[CV 1/1] END algorithm=auto, metric=chebyshev, n_neighbors=16, weights=distance;, score=0.521 total time=  52.3s\n",
            "[CV 1/1] END algorithm=auto, metric=chebyshev, n_neighbors=16, weights=uniform;, score=0.511 total time=  53.5s\n",
            "[CV 1/1] END algorithm=auto, metric=chebyshev, n_neighbors=17, weights=distance;, score=0.516 total time=  55.2s\n",
            "[CV 1/1] END algorithm=auto, metric=chebyshev, n_neighbors=17, weights=uniform;, score=0.500 total time=  52.7s\n",
            "[CV 1/1] END algorithm=auto, metric=chebyshev, n_neighbors=18, weights=distance;, score=0.519 total time=  51.6s\n",
            "[CV 1/1] END algorithm=auto, metric=chebyshev, n_neighbors=18, weights=uniform;, score=0.503 total time=  55.6s\n",
            "[CV 1/1] END algorithm=auto, metric=chebyshev, n_neighbors=19, weights=distance;, score=0.513 total time=  51.7s\n",
            "[CV 1/1] END algorithm=auto, metric=chebyshev, n_neighbors=19, weights=uniform;, score=0.494 total time=  52.8s\n",
            "[CV 1/1] END algorithm=auto, metric=chebyshev, n_neighbors=20, weights=distance;, score=0.512 total time=  51.9s\n",
            "[CV 1/1] END algorithm=auto, metric=chebyshev, n_neighbors=20, weights=uniform;, score=0.487 total time=  52.7s\n",
            "[CV 1/1] END algorithm=auto, metric=chebyshev, n_neighbors=21, weights=distance;, score=0.513 total time=  55.3s\n",
            "[CV 1/1] END algorithm=auto, metric=chebyshev, n_neighbors=21, weights=uniform;, score=0.495 total time=  53.7s\n",
            "[CV 1/1] END algorithm=auto, metric=chebyshev, n_neighbors=22, weights=distance;, score=0.510 total time=  51.8s\n",
            "[CV 1/1] END algorithm=auto, metric=chebyshev, n_neighbors=22, weights=uniform;, score=0.488 total time=  52.6s\n",
            "[CV 1/1] END algorithm=auto, metric=chebyshev, n_neighbors=23, weights=distance;, score=0.507 total time=  55.3s\n",
            "[CV 1/1] END algorithm=auto, metric=chebyshev, n_neighbors=23, weights=uniform;, score=0.481 total time=  52.6s\n",
            "[CV 1/1] END algorithm=auto, metric=chebyshev, n_neighbors=24, weights=distance;, score=0.508 total time=  55.2s\n",
            "[CV 1/1] END algorithm=auto, metric=chebyshev, n_neighbors=24, weights=uniform;, score=0.483 total time=  53.6s\n",
            "[CV 1/1] END algorithm=auto, metric=chebyshev, n_neighbors=25, weights=distance;, score=0.509 total time=  51.9s\n",
            "[CV 1/1] END algorithm=auto, metric=chebyshev, n_neighbors=25, weights=uniform;, score=0.487 total time=  52.8s\n",
            "[CV 1/1] END algorithm=auto, metric=l1, n_neighbors=5, weights=distance;, score=0.573 total time= 1.1min\n",
            "[CV 1/1] END algorithm=auto, metric=l1, n_neighbors=5, weights=uniform;, score=0.567 total time= 1.1min\n",
            "[CV 1/1] END algorithm=auto, metric=l1, n_neighbors=6, weights=distance;, score=0.579 total time= 1.1min\n",
            "[CV 1/1] END algorithm=auto, metric=l1, n_neighbors=6, weights=uniform;, score=0.579 total time= 1.1min\n",
            "[CV 1/1] END algorithm=auto, metric=l1, n_neighbors=7, weights=distance;, score=0.584 total time= 1.1min\n",
            "[CV 1/1] END algorithm=auto, metric=l1, n_neighbors=7, weights=uniform;, score=0.581 total time= 1.1min\n",
            "[CV 1/1] END algorithm=auto, metric=l1, n_neighbors=8, weights=distance;, score=0.587 total time= 1.1min\n",
            "[CV 1/1] END algorithm=auto, metric=l1, n_neighbors=8, weights=uniform;, score=0.588 total time= 1.1min\n",
            "[CV 1/1] END algorithm=auto, metric=l1, n_neighbors=9, weights=distance;, score=0.591 total time= 1.1min\n",
            "[CV 1/1] END algorithm=auto, metric=l1, n_neighbors=9, weights=uniform;, score=0.591 total time= 1.1min\n",
            "[CV 1/1] END algorithm=auto, metric=l1, n_neighbors=10, weights=distance;, score=0.595 total time= 1.1min\n",
            "[CV 1/1] END algorithm=auto, metric=l1, n_neighbors=10, weights=uniform;, score=0.595 total time= 1.1min\n",
            "[CV 1/1] END algorithm=auto, metric=l1, n_neighbors=11, weights=distance;, score=0.597 total time= 1.1min\n",
            "[CV 1/1] END algorithm=auto, metric=l1, n_neighbors=11, weights=uniform;, score=0.599 total time= 1.1min\n",
            "[CV 1/1] END algorithm=auto, metric=l1, n_neighbors=12, weights=distance;, score=0.599 total time= 1.1min\n",
            "[CV 1/1] END algorithm=auto, metric=l1, n_neighbors=12, weights=uniform;, score=0.602 total time= 1.1min\n",
            "[CV 1/1] END algorithm=auto, metric=l1, n_neighbors=13, weights=distance;, score=0.601 total time= 1.1min\n",
            "[CV 1/1] END algorithm=auto, metric=l1, n_neighbors=13, weights=uniform;, score=0.601 total time= 1.1min\n",
            "[CV 1/1] END algorithm=auto, metric=l1, n_neighbors=14, weights=distance;, score=0.602 total time= 1.1min\n",
            "[CV 1/1] END algorithm=auto, metric=l1, n_neighbors=14, weights=uniform;, score=0.604 total time= 1.1min\n",
            "[CV 1/1] END algorithm=auto, metric=l1, n_neighbors=15, weights=distance;, score=0.605 total time= 1.1min\n",
            "[CV 1/1] END algorithm=auto, metric=l1, n_neighbors=15, weights=uniform;, score=0.606 total time= 1.1min\n",
            "[CV 1/1] END algorithm=auto, metric=l1, n_neighbors=16, weights=distance;, score=0.605 total time= 1.1min\n",
            "[CV 1/1] END algorithm=auto, metric=l1, n_neighbors=16, weights=uniform;, score=0.605 total time= 1.1min\n",
            "[CV 1/1] END algorithm=auto, metric=l1, n_neighbors=17, weights=distance;, score=0.604 total time= 1.1min\n",
            "[CV 1/1] END algorithm=auto, metric=l1, n_neighbors=17, weights=uniform;, score=0.606 total time= 1.1min\n",
            "[CV 1/1] END algorithm=auto, metric=l1, n_neighbors=18, weights=distance;, score=0.607 total time= 1.1min\n",
            "[CV 1/1] END algorithm=auto, metric=l1, n_neighbors=18, weights=uniform;, score=0.608 total time= 1.1min\n",
            "[CV 1/1] END algorithm=auto, metric=l1, n_neighbors=19, weights=distance;, score=0.609 total time= 1.1min\n",
            "[CV 1/1] END algorithm=auto, metric=l1, n_neighbors=19, weights=uniform;, score=0.608 total time= 1.1min\n",
            "[CV 1/1] END algorithm=auto, metric=l1, n_neighbors=20, weights=distance;, score=0.609 total time= 1.1min\n",
            "[CV 1/1] END algorithm=auto, metric=l1, n_neighbors=20, weights=uniform;, score=0.608 total time= 1.1min\n",
            "[CV 1/1] END algorithm=auto, metric=l1, n_neighbors=21, weights=distance;, score=0.609 total time= 1.1min\n",
            "[CV 1/1] END algorithm=auto, metric=l1, n_neighbors=21, weights=uniform;, score=0.609 total time= 1.2min\n",
            "[CV 1/1] END algorithm=auto, metric=l1, n_neighbors=22, weights=distance;, score=0.610 total time= 1.1min\n",
            "[CV 1/1] END algorithm=auto, metric=l1, n_neighbors=22, weights=uniform;, score=0.610 total time= 1.1min\n",
            "[CV 1/1] END algorithm=auto, metric=l1, n_neighbors=23, weights=distance;, score=0.612 total time= 1.1min\n",
            "[CV 1/1] END algorithm=auto, metric=l1, n_neighbors=23, weights=uniform;, score=0.610 total time= 1.1min\n",
            "[CV 1/1] END algorithm=auto, metric=l1, n_neighbors=24, weights=distance;, score=0.612 total time= 1.1min\n",
            "[CV 1/1] END algorithm=auto, metric=l1, n_neighbors=24, weights=uniform;, score=0.610 total time= 1.1min\n",
            "[CV 1/1] END algorithm=auto, metric=l1, n_neighbors=25, weights=distance;, score=0.613 total time= 1.1min\n",
            "[CV 1/1] END algorithm=auto, metric=l1, n_neighbors=25, weights=uniform;, score=0.614 total time= 1.1min\n",
            "[CV 1/1] END algorithm=auto, metric=l2, n_neighbors=5, weights=distance;, score=0.559 total time=  44.1s\n",
            "[CV 1/1] END algorithm=auto, metric=l2, n_neighbors=5, weights=uniform;, score=0.551 total time=  51.2s\n",
            "[CV 1/1] END algorithm=auto, metric=l2, n_neighbors=6, weights=distance;, score=0.562 total time=  43.1s\n",
            "[CV 1/1] END algorithm=auto, metric=l2, n_neighbors=6, weights=uniform;, score=0.558 total time=  43.2s\n",
            "[CV 1/1] END algorithm=auto, metric=l2, n_neighbors=7, weights=distance;, score=0.565 total time=  44.2s\n",
            "[CV 1/1] END algorithm=auto, metric=l2, n_neighbors=7, weights=uniform;, score=0.559 total time=  43.9s\n",
            "[CV 1/1] END algorithm=auto, metric=l2, n_neighbors=8, weights=distance;, score=0.567 total time=  42.1s\n",
            "[CV 1/1] END algorithm=auto, metric=l2, n_neighbors=8, weights=uniform;, score=0.562 total time=  45.2s\n",
            "[CV 1/1] END algorithm=auto, metric=l2, n_neighbors=9, weights=distance;, score=0.570 total time=  46.6s\n",
            "[CV 1/1] END algorithm=auto, metric=l2, n_neighbors=9, weights=uniform;, score=0.566 total time=  42.5s\n",
            "[CV 1/1] END algorithm=auto, metric=l2, n_neighbors=10, weights=distance;, score=0.573 total time=  44.0s\n",
            "[CV 1/1] END algorithm=auto, metric=l2, n_neighbors=10, weights=uniform;, score=0.571 total time=  44.8s\n",
            "[CV 1/1] END algorithm=auto, metric=l2, n_neighbors=11, weights=distance;, score=0.576 total time=  41.6s\n",
            "[CV 1/1] END algorithm=auto, metric=l2, n_neighbors=11, weights=uniform;, score=0.573 total time=  45.2s\n",
            "[CV 1/1] END algorithm=auto, metric=l2, n_neighbors=12, weights=distance;, score=0.577 total time=  43.6s\n",
            "[CV 1/1] END algorithm=auto, metric=l2, n_neighbors=12, weights=uniform;, score=0.575 total time=  51.2s\n",
            "[CV 1/1] END algorithm=auto, metric=l2, n_neighbors=13, weights=distance;, score=0.580 total time=  41.5s\n",
            "[CV 1/1] END algorithm=auto, metric=l2, n_neighbors=13, weights=uniform;, score=0.578 total time=  45.4s\n",
            "[CV 1/1] END algorithm=auto, metric=l2, n_neighbors=14, weights=distance;, score=0.580 total time=  43.8s\n",
            "[CV 1/1] END algorithm=auto, metric=l2, n_neighbors=14, weights=uniform;, score=0.578 total time=  42.7s\n",
            "[CV 1/1] END algorithm=auto, metric=l2, n_neighbors=15, weights=distance;, score=0.581 total time=  44.3s\n",
            "[CV 1/1] END algorithm=auto, metric=l2, n_neighbors=15, weights=uniform;, score=0.580 total time=  48.4s\n",
            "[CV 1/1] END algorithm=auto, metric=l2, n_neighbors=16, weights=distance;, score=0.583 total time=  43.3s\n",
            "[CV 1/1] END algorithm=auto, metric=l2, n_neighbors=16, weights=uniform;, score=0.582 total time=  43.5s\n",
            "[CV 1/1] END algorithm=auto, metric=l2, n_neighbors=17, weights=distance;, score=0.584 total time=  44.3s\n",
            "[CV 1/1] END algorithm=auto, metric=l2, n_neighbors=17, weights=uniform;, score=0.582 total time=  44.9s\n",
            "[CV 1/1] END algorithm=auto, metric=l2, n_neighbors=18, weights=distance;, score=0.588 total time=  41.6s\n",
            "[CV 1/1] END algorithm=auto, metric=l2, n_neighbors=18, weights=uniform;, score=0.587 total time=  45.5s\n",
            "[CV 1/1] END algorithm=auto, metric=l2, n_neighbors=19, weights=distance;, score=0.587 total time=  47.4s\n",
            "[CV 1/1] END algorithm=auto, metric=l2, n_neighbors=19, weights=uniform;, score=0.587 total time=  47.5s\n",
            "[CV 1/1] END algorithm=auto, metric=l2, n_neighbors=20, weights=distance;, score=0.588 total time=  41.7s\n",
            "[CV 1/1] END algorithm=auto, metric=l2, n_neighbors=20, weights=uniform;, score=0.587 total time=  45.5s\n",
            "[CV 1/1] END algorithm=auto, metric=l2, n_neighbors=21, weights=distance;, score=0.589 total time=  43.8s\n",
            "[CV 1/1] END algorithm=auto, metric=l2, n_neighbors=21, weights=uniform;, score=0.588 total time=  42.7s\n",
            "[CV 1/1] END algorithm=auto, metric=l2, n_neighbors=22, weights=distance;, score=0.589 total time=  45.6s\n",
            "[CV 1/1] END algorithm=auto, metric=l2, n_neighbors=22, weights=uniform;, score=0.585 total time=  46.4s\n",
            "[CV 1/1] END algorithm=auto, metric=l2, n_neighbors=23, weights=distance;, score=0.588 total time=  42.1s\n",
            "[CV 1/1] END algorithm=auto, metric=l2, n_neighbors=23, weights=uniform;, score=0.588 total time=  44.7s\n",
            "[CV 1/1] END algorithm=auto, metric=l2, n_neighbors=24, weights=distance;, score=0.588 total time=  44.5s\n",
            "[CV 1/1] END algorithm=auto, metric=l2, n_neighbors=24, weights=uniform;, score=0.588 total time=  43.7s\n",
            "[CV 1/1] END algorithm=auto, metric=l2, n_neighbors=25, weights=distance;, score=0.590 total time=  42.9s\n",
            "[CV 1/1] END algorithm=auto, metric=l2, n_neighbors=25, weights=uniform;, score=0.590 total time=  47.9s\n",
            "{'algorithm': 'auto', 'leaf_size': 30, 'metric': 'cityblock', 'metric_params': None, 'n_jobs': None, 'n_neighbors': 25, 'p': 2, 'weights': 'uniform'}\n",
            "25\n",
            "uniform\n",
            "auto\n",
            "cityblock\n",
            "0.6136465883529117\n"
          ]
        }
      ],
      "source": [
        "from sklearn.pipeline import Pipeline\n",
        "from sklearn.model_selection import GridSearchCV\n",
        "import math\n",
        "knn=KNeighborsClassifier()\n",
        "param_grid={\n",
        "    'n_neighbors' : [5,6,7,8,9,10,11,12,13,14,15,16,17,18,19,20,21,22,23,24,25],\n",
        "    'weights': ['distance', 'uniform'],\n",
        "    'algorithm': ['auto'],\n",
        "    'metric': ['cityblock','euclidean','manhattan','minkowski','chebyshev','l1','l2']\n",
        "}\n",
        "clf_GS=GridSearchCV(knn,param_grid,cv=[(np.arange(0,64013),np.arange(80017,100022))],verbose=3)\n",
        "print(clf_GS.get_params().keys())\n",
        "clf_GS.fit(x,y)\n",
        "print(clf_GS.best_estimator_.get_params())\n",
        "\n",
        "print(clf_GS.best_estimator_.get_params()['n_neighbors'])\n",
        "print(clf_GS.best_estimator_.get_params()['weights'])\n",
        "print(clf_GS.best_estimator_.get_params()['algorithm'])\n",
        "print(clf_GS.best_estimator_.get_params()['metric'])\n",
        "print(clf_GS.best_score_)"
      ]
    },
    {
      "cell_type": "markdown",
      "metadata": {
        "id": "bsOlNa_EhqaH"
      },
      "source": [
        "Oversampling i Undersampling"
      ]
    },
    {
      "cell_type": "code",
      "execution_count": null,
      "metadata": {
        "id": "YFLueyfteTIw",
        "colab": {
          "base_uri": "https://localhost:8080/",
          "height": 534
        },
        "outputId": "ebe99462-dd51-423a-c76c-6240ab4f4822"
      },
      "outputs": [
        {
          "output_type": "stream",
          "name": "stdout",
          "text": [
            "Original dataset:  Counter({2: 33962, 1: 18613, 0: 11438})\n"
          ]
        },
        {
          "output_type": "display_data",
          "data": {
            "text/plain": [
              "<Figure size 800x500 with 1 Axes>"
            ],
            "image/png": "[encoded data removed]"
          },
          "metadata": {}
        }
      ],
      "source": [
        "from collections import Counter\n",
        "import matplotlib.pyplot as plt\n",
        "\n",
        "counter=Counter(y_train)\n",
        "print(\"Original dataset: \",counter)\n",
        "figure,a=plt.subplots(figsize=(8,5))\n",
        "y_train.value_counts().plot(kind='bar',ax=a,title=\"Distribucija Credit Score vrijednosti\")\n",
        "a.set_xticklabels(['Standard','Poor','Good'])\n",
        "plt.show()"
      ]
    },
    {
      "cell_type": "code",
      "execution_count": null,
      "metadata": {
        "id": "KhpRRaI-w_S6"
      },
      "outputs": [],
      "source": [
        "from imblearn.over_sampling import SMOTE\n",
        "from imblearn.under_sampling import RandomUnderSampler"
      ]
    },
    {
      "cell_type": "code",
      "execution_count": null,
      "metadata": {
        "id": "MdnaiM1rxshq",
        "colab": {
          "base_uri": "https://localhost:8080/",
          "height": 534
        },
        "outputId": "20b75046-f557-4e96-cbe7-7bf207664a3c"
      },
      "outputs": [
        {
          "output_type": "stream",
          "name": "stdout",
          "text": [
            "Oversampled dataset:  Counter({1: 33962, 2: 33962, 0: 33962})\n"
          ]
        },
        {
          "output_type": "display_data",
          "data": {
            "text/plain": [
              "<Figure size 800x500 with 1 Axes>"
            ],
            "image/png": "[encoded data removed]"
          },
          "metadata": {}
        }
      ],
      "source": [
        "sm=SMOTE(random_state=42)\n",
        "x_res,y_res=sm.fit_resample(x_train,y_train)\n",
        "figure,a=plt.subplots(figsize=(8,5))\n",
        "print(\"Oversampled dataset: \",Counter(y_res))\n",
        "y_res.value_counts().plot(kind='bar',ax=a,title=\"Distribucija Credit Score oversampled vrijednosti\")\n",
        "a.set_xticklabels(['Standard','Poor','Good'])\n",
        "plt.show()"
      ]
    },
    {
      "cell_type": "code",
      "execution_count": null,
      "metadata": {
        "id": "Y_4wNrfZ3xYU",
        "colab": {
          "base_uri": "https://localhost:8080/",
          "height": 534
        },
        "outputId": "54523763-ed73-49ef-c43f-66103acb5228"
      },
      "outputs": [
        {
          "output_type": "stream",
          "name": "stdout",
          "text": [
            "Undersampled dataset:  Counter({0: 11438, 1: 11438, 2: 11438})\n"
          ]
        },
        {
          "output_type": "display_data",
          "data": {
            "text/plain": [
              "<Figure size 800x500 with 1 Axes>"
            ],
            "image/png": "[encoded data removed]"
          },
          "metadata": {}
        }
      ],
      "source": [
        "rus=RandomUnderSampler(random_state=42)\n",
        "x_resampled,y_resampled=rus.fit_resample(x_train,y_train)\n",
        "figure,a=plt.subplots(figsize=(8,5))\n",
        "print(\"Undersampled dataset: \",Counter(y_resampled))\n",
        "y_resampled.value_counts().plot(kind='bar',ax=a,title=\"Distribucija Credit Score undersampled vrijednosti\")\n",
        "a.set_xticklabels(['Standard','Poor','Good'])\n",
        "plt.show()"
      ]
    },
    {
      "cell_type": "code",
      "execution_count": null,
      "metadata": {
        "id": "4cqiygBXH5mP",
        "colab": {
          "base_uri": "https://localhost:8080/"
        },
        "outputId": "890d9333-848b-4cf3-913d-d0dbfbcb314f"
      },
      "outputs": [
        {
          "output_type": "stream",
          "name": "stdout",
          "text": [
            "Accuracy:  60.7298175456136 %\n",
            "Cohen Kappa:  {0.4165901856551728}\n",
            "[[2912  140  453]\n",
            " [ 889 4161  705]\n",
            " [3051 2618 5076]]\n"
          ]
        }
      ],
      "source": [
        "r1knn=KNeighborsClassifier(n_neighbors=25,weights='uniform',algorithm='auto',metric='cityblock')\n",
        "r1knn.fit(x_res,y_res)\n",
        "prediction=r1knn.predict(x_test)\n",
        "print(\"Accuracy: \",accuracy_score(y_test,prediction)*100,\"%\")\n",
        "print(\"Cohen Kappa: \",{cohen_kappa_score(y_test,prediction)})\n",
        "cm2=confusion_matrix(y_test,prediction)\n",
        "print(cm2)"
      ]
    },
    {
      "cell_type": "code",
      "source": [
        "disp2=ConfusionMatrixDisplay(confusion_matrix=cm2,display_labels=r1knn.classes_)\n",
        "disp2.plot()\n",
        "plt.show()"
      ],
      "metadata": {
        "colab": {
          "base_uri": "https://localhost:8080/",
          "height": 449
        },
        "id": "qsBhJPDz7N9R",
        "outputId": "1b745d15-164c-4d60-cba2-3130174f81fa"
      },
      "execution_count": null,
      "outputs": [
        {
          "output_type": "display_data",
          "data": {
            "text/plain": [
              "<Figure size 640x480 with 2 Axes>"
            ],
            "image/png": "[encoded data removed]"
          },
          "metadata": {}
        }
      ]
    },
    {
      "cell_type": "code",
      "execution_count": null,
      "metadata": {
        "id": "u6o0PuooH6s7",
        "colab": {
          "base_uri": "https://localhost:8080/"
        },
        "outputId": "fbba86d5-eb2c-4a76-9cf7-5cc2c84bdfe6"
      },
      "outputs": [
        {
          "output_type": "stream",
          "name": "stdout",
          "text": [
            "Accuracy:  57.625593601599604 %\n",
            "Cohen Kappa:  {0.3771491321566791}\n",
            "[[2961  118  426]\n",
            " [1031 3919  805]\n",
            " [3356 2741 4648]]\n"
          ]
        }
      ],
      "source": [
        "r2knn=KNeighborsClassifier(n_neighbors=25,weights='uniform',algorithm='auto',metric='cityblock')\n",
        "r2knn.fit(x_resampled,y_resampled)\n",
        "prediction=r2knn.predict(x_test)\n",
        "print(\"Accuracy: \",accuracy_score(y_test,prediction)*100,\"%\")\n",
        "print(\"Cohen Kappa: \",{cohen_kappa_score(y_test,prediction)})\n",
        "cm3=confusion_matrix(y_test,prediction)\n",
        "print(cm3)"
      ]
    },
    {
      "cell_type": "code",
      "source": [
        "disp3=ConfusionMatrixDisplay(confusion_matrix=cm3,display_labels=r2knn.classes_)\n",
        "disp3.plot()\n",
        "plt.show()"
      ],
      "metadata": {
        "colab": {
          "base_uri": "https://localhost:8080/",
          "height": 449
        },
        "id": "fQ3UeNOg7k1B",
        "outputId": "d7542497-c1a9-445c-fd9d-c5131f841935"
      },
      "execution_count": null,
      "outputs": [
        {
          "output_type": "display_data",
          "data": {
            "text/plain": [
              "<Figure size 640x480 with 2 Axes>"
            ],
            "image/png": "[encoded data removed]"
          },
          "metadata": {}
        }
      ]
    },
    {
      "cell_type": "markdown",
      "metadata": {
        "id": "My7LXTF38SAa"
      },
      "source": [
        "**Cross-validacija**"
      ]
    },
    {
      "cell_type": "code",
      "source": [
        "from sklearn.model_selection import cross_validate\n",
        "knn_cv=KNeighborsClassifier(n_neighbors=25)\n",
        "cv_scores=cross_validate(knn_cv,x_train,y_train,cv=10,return_train_score=True)\n",
        "train_scores=cv_scores['train_score']\n",
        "test_scores=cv_scores['test_score']\n",
        "knn.fit(x_train,y_train)\n",
        "validation_score=knn.score(x_valid,y_valid)\n",
        "print(\"Rezultat unakrsne validacije:\")\n",
        "print(\"Train scores: \",train_scores)\n",
        "print(\"Test scores: \",test_scores)\n",
        "print(\"Rezultat na validacijskom skupu: \",validation_score)\n"
      ],
      "metadata": {
        "colab": {
          "base_uri": "https://localhost:8080/"
        },
        "id": "mXglXyIQ5Hy-",
        "outputId": "cdc7563e-2562-4234-a4f0-910ff92191ce"
      },
      "execution_count": null,
      "outputs": [
        {
          "output_type": "stream",
          "name": "stdout",
          "text": [
            "Rezultat unakrsne validacije:\n",
            "Train scores:  [0.66925868 0.66825891 0.66927103 0.67013503 0.67033252 0.66953023\n",
            " 0.66991286 0.66987583 0.66875262 0.66917228]\n",
            "Test scores:  [0.5875361  0.58498112 0.57676072 0.5875361  0.5670962  0.58164852\n",
            " 0.5736503  0.57798267 0.58620307 0.5892024 ]\n",
            "Rezultat na validacijskom skupu:  0.6747063234191452\n"
          ]
        }
      ]
    }
  ],
  "metadata": {
    "colab": {
      "provenance": []
    },
    "kernelspec": {
      "display_name": "Python 3",
      "name": "python3"
    },
    "language_info": {
      "name": "python"
    }
  },
  "nbformat": 4,
  "nbformat_minor": 0
}